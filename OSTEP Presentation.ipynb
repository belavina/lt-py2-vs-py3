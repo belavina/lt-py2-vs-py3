{
 "cells": [
  {
   "cell_type": "markdown",
   "metadata": {
    "slideshow": {
     "slide_type": "slide"
    }
   },
   "source": [
    "![alt text](http://canada.cdot.systems/chris/ostep-logo/ostep_logo_2f_black_V1.png \"Ostep\")\n",
    "\n",
    "# By Olga Belavina\n"
   ]
  },
  {
   "cell_type": "markdown",
   "metadata": {
    "slideshow": {
     "slide_type": "slide"
    }
   },
   "source": [
    "# Python2 vs Python3\n",
    "\n",
    "![alt text](./py2_vs_py3.png)\n"
   ]
  },
  {
   "cell_type": "markdown",
   "metadata": {
    "slideshow": {
     "slide_type": "subslide"
    }
   },
   "source": [
    "\n",
    "# More Than Extra Pair of Parenthesis for print\n",
    "\n",
    "![alt text](./py2_vs_py3_1.png)"
   ]
  },
  {
   "cell_type": "markdown",
   "metadata": {
    "slideshow": {
     "slide_type": "slide"
    }
   },
   "source": [
    "## Feature 1:  IP Address Data Type\n",
    "\n",
    "ipaddress module provides the capabilities to create, manipulate and operate on IPv4 and IPv6 addresses and networks."
   ]
  },
  {
   "cell_type": "code",
   "execution_count": 12,
   "metadata": {
    "slideshow": {
     "slide_type": "subslide"
    }
   },
   "outputs": [
    {
     "name": "stdout",
     "output_type": "stream",
     "text": [
      "Am I global? False\n",
      "Am I reserved? False\n",
      "Am I google? False\n"
     ]
    }
   ],
   "source": [
    "import ipaddress\n",
    "import os\n",
    "\n",
    "my_address = ipaddress.ip_address('192.168.0.2')\n",
    "\n",
    "print('Am I global?', my_address.is_global)\n",
    "print('Am I reserved?', my_address.is_reserved)\n",
    "print('Am I google?', my_address == ipaddress.ip_address('8.8.8.8'))"
   ]
  },
  {
   "cell_type": "code",
   "execution_count": 30,
   "metadata": {
    "slideshow": {
     "slide_type": "fragment"
    }
   },
   "outputs": [
    {
     "data": {
      "text/plain": [
       "IPv4Address('192.169.0.0')"
      ]
     },
     "execution_count": 30,
     "metadata": {},
     "output_type": "execute_result"
    }
   ],
   "source": [
    "ipaddress.ip_address('192.168.255.255') + 1"
   ]
  },
  {
   "cell_type": "code",
   "execution_count": 13,
   "metadata": {
    "slideshow": {
     "slide_type": "subslide"
    }
   },
   "outputs": [
    {
     "name": "stdout",
     "output_type": "stream",
     "text": [
      "67.69.105.1\n",
      "67.69.105.2\n",
      "67.69.105.3\n",
      "67.69.105.4\n",
      "67.69.105.5\n",
      "67.69.105.6\n",
      "67.69.105.7\n",
      "67.69.105.8\n",
      "67.69.105.9\n",
      "67.69.105.10\n",
      "67.69.105.11\n",
      "67.69.105.12\n",
      "67.69.105.13\n",
      "67.69.105.14\n",
      "67.69.105.15\n",
      "67.69.105.16\n",
      "67.69.105.17\n",
      "67.69.105.18\n",
      "67.69.105.19\n",
      "67.69.105.20\n",
      "67.69.105.21\n",
      "67.69.105.22\n",
      "67.69.105.23\n",
      "67.69.105.24\n",
      "67.69.105.25\n",
      "67.69.105.26\n",
      "67.69.105.27\n",
      "67.69.105.28\n",
      "67.69.105.29\n",
      "67.69.105.30\n",
      "67.69.105.31\n",
      "67.69.105.32\n",
      "67.69.105.33\n",
      "67.69.105.34\n",
      "67.69.105.35\n",
      "67.69.105.36\n",
      "67.69.105.37\n",
      "67.69.105.38\n",
      "67.69.105.39\n",
      "67.69.105.40\n",
      "67.69.105.41\n",
      "67.69.105.42\n",
      "67.69.105.43\n",
      "67.69.105.44\n",
      "67.69.105.45\n",
      "67.69.105.46\n",
      "67.69.105.47\n",
      "67.69.105.48\n",
      "67.69.105.49\n",
      "67.69.105.50\n",
      "67.69.105.51\n",
      "67.69.105.52\n",
      "67.69.105.53\n",
      "67.69.105.54\n",
      "67.69.105.55\n",
      "67.69.105.56\n",
      "67.69.105.57\n",
      "67.69.105.58\n",
      "67.69.105.59\n",
      "67.69.105.60\n",
      "67.69.105.61\n",
      "67.69.105.62\n",
      "67.69.105.63\n",
      "67.69.105.64\n",
      "67.69.105.65\n",
      "67.69.105.66\n",
      "67.69.105.67\n",
      "67.69.105.68\n",
      "67.69.105.69\n",
      "67.69.105.70\n",
      "67.69.105.71\n",
      "67.69.105.72\n",
      "67.69.105.73\n",
      "67.69.105.74\n",
      "67.69.105.75\n",
      "67.69.105.76\n",
      "67.69.105.77\n",
      "67.69.105.78\n",
      "67.69.105.79\n",
      "67.69.105.80\n",
      "67.69.105.81\n",
      "67.69.105.82\n",
      "67.69.105.83\n",
      "67.69.105.84\n",
      "67.69.105.85\n",
      "67.69.105.86\n",
      "67.69.105.87\n",
      "67.69.105.88\n",
      "67.69.105.89\n",
      "67.69.105.90\n",
      "67.69.105.91\n",
      "67.69.105.92\n",
      "67.69.105.93\n",
      "67.69.105.94\n",
      "67.69.105.95\n",
      "67.69.105.96\n",
      "67.69.105.97\n",
      "67.69.105.98\n",
      "67.69.105.99\n",
      "67.69.105.100\n",
      "67.69.105.101\n",
      "67.69.105.102\n",
      "67.69.105.103\n",
      "67.69.105.104\n",
      "67.69.105.105\n",
      "67.69.105.106\n",
      "67.69.105.107\n",
      "67.69.105.108\n",
      "67.69.105.109\n",
      "67.69.105.110\n",
      "67.69.105.111\n",
      "67.69.105.112\n",
      "67.69.105.113\n",
      "67.69.105.114\n",
      "67.69.105.115\n",
      "67.69.105.116\n",
      "67.69.105.117\n",
      "67.69.105.118\n",
      "67.69.105.119\n",
      "67.69.105.120\n",
      "67.69.105.121\n",
      "67.69.105.122\n",
      "67.69.105.123\n",
      "67.69.105.124\n",
      "67.69.105.125\n",
      "67.69.105.126\n"
     ]
    }
   ],
   "source": [
    "subnet = ipaddress.ip_network('67.69.105.0/25')\n",
    "for addr in subnet.hosts():\n",
    "    print(addr)\n",
    "    # os.system(\"ping -c 1\" + str(addr))\n",
    "    \n",
    "    "
   ]
  },
  {
   "cell_type": "markdown",
   "metadata": {
    "slideshow": {
     "slide_type": "slide"
    }
   },
   "source": [
    "## Feature 2: lru_cache\n",
    "\n",
    "Caching that can save repeated queries to an external resource whenever the results are expected to be the same.\n"
   ]
  },
  {
   "cell_type": "code",
   "execution_count": 14,
   "metadata": {
    "slideshow": {
     "slide_type": "subslide"
    }
   },
   "outputs": [],
   "source": [
    "import time\n",
    "import functools\n",
    "\n",
    "def fetch_no_cache():\n",
    "    time.sleep(3)\n",
    "    return 'lorem ipsum' * 1000000\n",
    "\n",
    "@functools.lru_cache(maxsize=300)\n",
    "def fetch_with_cache():\n",
    "    time.sleep(3)\n",
    "    return 'lorem ipsum' * 1000000\n"
   ]
  },
  {
   "cell_type": "code",
   "execution_count": 15,
   "metadata": {
    "slideshow": {
     "slide_type": "notes"
    }
   },
   "outputs": [],
   "source": [
    "\n",
    "def fetch_3_times_and_report(f):\n",
    "    \"\"\"Useless function executing 'f' 3 times & recording time taken\"\"\"\n",
    "    \n",
    "    print('=' * 40)\n",
    "    print('starting execution of ', f.__name__)\n",
    "    print('=' * 40)\n",
    "    \n",
    "    start = time.time()\n",
    "    for i in range(1, 4):\n",
    "        print('{}) fetching..'.format(i))\n",
    "        print(' -- received text of length: ', len(f()))\n",
    "\n",
    "    end = time.time()\n",
    "    print('Done! time taken: {:.3f}'.format(end - start))\n"
   ]
  },
  {
   "cell_type": "markdown",
   "metadata": {
    "slideshow": {
     "slide_type": "subslide"
    }
   },
   "source": [
    "# No Cache vs Cache Runtime"
   ]
  },
  {
   "cell_type": "code",
   "execution_count": 16,
   "metadata": {
    "slideshow": {
     "slide_type": "fragment"
    }
   },
   "outputs": [
    {
     "name": "stdout",
     "output_type": "stream",
     "text": [
      "========================================\n",
      "starting execution of  fetch_no_cache\n",
      "========================================\n",
      "1) fetching..\n",
      " -- received text of length:  11000000\n",
      "2) fetching..\n",
      " -- received text of length:  11000000\n",
      "3) fetching..\n",
      " -- received text of length:  11000000\n",
      "Done! time taken: 9.045\n",
      "========================================\n",
      "starting execution of  fetch_with_cache\n",
      "========================================\n",
      "1) fetching..\n",
      " -- received text of length:  11000000\n",
      "2) fetching..\n",
      " -- received text of length:  11000000\n",
      "3) fetching..\n",
      " -- received text of length:  11000000\n",
      "Done! time taken: 3.008\n"
     ]
    }
   ],
   "source": [
    "# no cache!\n",
    "fetch_3_times_and_report(fetch_no_cache)\n",
    "\n",
    "# with cache!\n",
    "fetch_3_times_and_report(fetch_with_cache)"
   ]
  },
  {
   "cell_type": "code",
   "execution_count": 17,
   "metadata": {
    "slideshow": {
     "slide_type": "subslide"
    }
   },
   "outputs": [
    {
     "data": {
      "text/plain": [
       "CacheInfo(hits=2, misses=1, maxsize=300, currsize=1)"
      ]
     },
     "execution_count": 17,
     "metadata": {},
     "output_type": "execute_result"
    }
   ],
   "source": [
    "fetch_with_cache.cache_info()"
   ]
  },
  {
   "cell_type": "code",
   "execution_count": 18,
   "metadata": {
    "slideshow": {
     "slide_type": "fragment"
    }
   },
   "outputs": [
    {
     "data": {
      "text/plain": [
       "CacheInfo(hits=0, misses=0, maxsize=300, currsize=0)"
      ]
     },
     "execution_count": 18,
     "metadata": {},
     "output_type": "execute_result"
    }
   ],
   "source": [
    "fetch_with_cache.cache_clear()\n",
    "fetch_with_cache.cache_info()"
   ]
  },
  {
   "cell_type": "code",
   "execution_count": 19,
   "metadata": {
    "slideshow": {
     "slide_type": "subslide"
    }
   },
   "outputs": [
    {
     "data": {
      "text/plain": [
       "CacheInfo(hits=2, misses=4, maxsize=300, currsize=4)"
      ]
     },
     "execution_count": 19,
     "metadata": {},
     "output_type": "execute_result"
    }
   ],
   "source": [
    "@functools.lru_cache(maxsize=300)\n",
    "def fetch_with_cache(lorem_ipsum_len):\n",
    "    return 'lorem ipsum' * lorem_ipsum_len\n",
    "\n",
    "for i in [100, 12, 5, 1, 12, 100]:\n",
    "    fetch_with_cache(i)\n",
    "    \n",
    "fetch_with_cache.cache_info()"
   ]
  },
  {
   "cell_type": "markdown",
   "metadata": {
    "slideshow": {
     "slide_type": "slide"
    }
   },
   "source": [
    "## Feature 3: Enum type\n",
    "\n",
    "An enumeration is a set of symbolic names (members) bound to unique, constant values. Within an enumeration, the members can be compared by identity, and the enumeration itself can be iterated over.\n"
   ]
  },
  {
   "cell_type": "code",
   "execution_count": 28,
   "metadata": {
    "slideshow": {
     "slide_type": "subslide"
    }
   },
   "outputs": [
    {
     "name": "stdout",
     "output_type": "stream",
     "text": [
      "Mango tastes like cotton: False\n",
      "Garlic is my #3 flavor: True\n"
     ]
    }
   ],
   "source": [
    "from enum import Enum\n",
    "\n",
    "class Flavor(Enum):\n",
    "    mango = 1\n",
    "    cotton_candy = 2\n",
    "    garlic = 3\n",
    "\n",
    "print('Mango tastes like cotton:', Flavor.mango == Flavor.cotton_candy)\n",
    "print('Garlic is my #3 flavor:', Flavor(3) == Flavor['garlic'])\n"
   ]
  },
  {
   "cell_type": "markdown",
   "metadata": {
    "slideshow": {
     "slide_type": "slide"
    }
   },
   "source": [
    "## Feature 4: Function Annotations\n",
    "\n",
    "(not type checking!)\n",
    "\n",
    "Function annotations are arbitrary python expressions that are associated with various part of functions. These expressions are evaluated at compile time and have no life in python’s runtime environment."
   ]
  },
  {
   "cell_type": "code",
   "execution_count": 34,
   "metadata": {
    "slideshow": {
     "slide_type": "subslide"
    }
   },
   "outputs": [],
   "source": [
    "import datetime\n",
    "\n",
    "def days_past(since_date):\n",
    "    return (datetime.datetime.now() - since_date).days\n"
   ]
  },
  {
   "cell_type": "code",
   "execution_count": 35,
   "metadata": {
    "slideshow": {
     "slide_type": "fragment"
    }
   },
   "outputs": [
    {
     "name": "stdout",
     "output_type": "stream",
     "text": [
      "Days wasted: 153\n"
     ]
    },
    {
     "ename": "TypeError",
     "evalue": "unsupported operand type(s) for -: 'datetime.datetime' and 'str'",
     "output_type": "error",
     "traceback": [
      "\u001b[0;31m---------------------------------------------------------------------------\u001b[0m",
      "\u001b[0;31mTypeError\u001b[0m                                 Traceback (most recent call last)",
      "\u001b[0;32m<ipython-input-35-edd04ce99267>\u001b[0m in \u001b[0;36m<module>\u001b[0;34m\u001b[0m\n\u001b[1;32m      2\u001b[0m \u001b[0;34m\u001b[0m\u001b[0m\n\u001b[1;32m      3\u001b[0m \u001b[0mprint\u001b[0m\u001b[0;34m(\u001b[0m\u001b[0;34m'Days wasted:'\u001b[0m\u001b[0;34m,\u001b[0m \u001b[0mdays_past\u001b[0m\u001b[0;34m(\u001b[0m\u001b[0mjan_1st\u001b[0m\u001b[0;34m)\u001b[0m\u001b[0;34m)\u001b[0m\u001b[0;34m\u001b[0m\u001b[0;34m\u001b[0m\u001b[0m\n\u001b[0;32m----> 4\u001b[0;31m \u001b[0mprint\u001b[0m\u001b[0;34m(\u001b[0m\u001b[0;34m'Days wasted:'\u001b[0m\u001b[0;34m,\u001b[0m \u001b[0mdays_past\u001b[0m\u001b[0;34m(\u001b[0m\u001b[0;34m'2019/01/01'\u001b[0m\u001b[0;34m)\u001b[0m\u001b[0;34m)\u001b[0m\u001b[0;34m\u001b[0m\u001b[0;34m\u001b[0m\u001b[0m\n\u001b[0m",
      "\u001b[0;32m<ipython-input-34-f95b20e11c5d>\u001b[0m in \u001b[0;36mdays_past\u001b[0;34m(since_date)\u001b[0m\n\u001b[1;32m      2\u001b[0m \u001b[0;34m\u001b[0m\u001b[0m\n\u001b[1;32m      3\u001b[0m \u001b[0;32mdef\u001b[0m \u001b[0mdays_past\u001b[0m\u001b[0;34m(\u001b[0m\u001b[0msince_date\u001b[0m\u001b[0;34m)\u001b[0m\u001b[0;34m:\u001b[0m\u001b[0;34m\u001b[0m\u001b[0;34m\u001b[0m\u001b[0m\n\u001b[0;32m----> 4\u001b[0;31m     \u001b[0;32mreturn\u001b[0m \u001b[0;34m(\u001b[0m\u001b[0mdatetime\u001b[0m\u001b[0;34m.\u001b[0m\u001b[0mdatetime\u001b[0m\u001b[0;34m.\u001b[0m\u001b[0mnow\u001b[0m\u001b[0;34m(\u001b[0m\u001b[0;34m)\u001b[0m \u001b[0;34m-\u001b[0m \u001b[0msince_date\u001b[0m\u001b[0;34m)\u001b[0m\u001b[0;34m.\u001b[0m\u001b[0mdays\u001b[0m\u001b[0;34m\u001b[0m\u001b[0;34m\u001b[0m\u001b[0m\n\u001b[0m",
      "\u001b[0;31mTypeError\u001b[0m: unsupported operand type(s) for -: 'datetime.datetime' and 'str'"
     ]
    }
   ],
   "source": [
    "jan_1st = datetime.datetime(2019, 1, 1, 0, 0)\n",
    "\n",
    "print('Days wasted:', days_past(jan_1st))\n",
    "print('Days wasted:', days_past('2019/01/01'))"
   ]
  },
  {
   "cell_type": "code",
   "execution_count": 36,
   "metadata": {
    "slideshow": {
     "slide_type": "subslide"
    }
   },
   "outputs": [],
   "source": [
    "import datetime\n",
    "\n",
    "def days_past(past_date: datetime.datetime) -> int:\n",
    "    return (datetime.datetime.now() - past_date).days\n"
   ]
  },
  {
   "cell_type": "markdown",
   "metadata": {
    "slideshow": {
     "slide_type": "slide"
    }
   },
   "source": [
    "## Feature 5: Matrix Multiplication Operator\n"
   ]
  },
  {
   "cell_type": "code",
   "execution_count": 24,
   "metadata": {
    "slideshow": {
     "slide_type": "subslide"
    }
   },
   "outputs": [
    {
     "data": {
      "text/plain": [
       "array([[4, 1],\n",
       "       [2, 2]])"
      ]
     },
     "execution_count": 24,
     "metadata": {},
     "output_type": "execute_result"
    }
   ],
   "source": [
    "import numpy as np\n",
    "\n",
    "a = np.array([[1, 0], [0, 1]])\n",
    "b = np.array([[4, 1], [2, 2]])\n",
    "np.dot(a, b)"
   ]
  },
  {
   "cell_type": "code",
   "execution_count": 25,
   "metadata": {
    "slideshow": {
     "slide_type": "fragment"
    }
   },
   "outputs": [
    {
     "data": {
      "text/plain": [
       "array([[4, 1],\n",
       "       [2, 2]])"
      ]
     },
     "execution_count": 25,
     "metadata": {},
     "output_type": "execute_result"
    }
   ],
   "source": [
    "import numpy as np\n",
    "\n",
    "a = np.array([[1, 0], [0, 1]])\n",
    "b = np.array([[4, 1], [2, 2]])\n",
    "a @ b"
   ]
  },
  {
   "cell_type": "markdown",
   "metadata": {
    "slideshow": {
     "slide_type": "slide"
    }
   },
   "source": [
    "## Feature 6: Pathlib\n",
    "\n",
    "Object-oriented filesystem paths"
   ]
  },
  {
   "cell_type": "code",
   "execution_count": 26,
   "metadata": {
    "slideshow": {
     "slide_type": "subslide"
    }
   },
   "outputs": [
    {
     "name": "stdout",
     "output_type": "stream",
     "text": [
      "Up for 3468.21 sec, idle time 13193.04 sec\n"
     ]
    }
   ],
   "source": [
    "def report(uptime):\n",
    "    uptime_parts = uptime.replace(\"\\n\", \"\").split(\" \")\n",
    "    print(\"Up for {0} sec, idle time {1} sec\".format(*uptime_parts))\n",
    "\n",
    "import os\n",
    "\n",
    "# Read & Parse contents of /proc/uptime\n",
    "directory = \"/proc\"\n",
    "uptime_path = os.path.join(directory, \"uptime\")\n",
    "\n",
    "# Check if file exists\n",
    "if os.path.exists(uptime_path):\n",
    "    with open(uptime_path, \"r\") as fh:\n",
    "        uptime = fh.read()\n",
    "        report(uptime)\n",
    "        "
   ]
  },
  {
   "cell_type": "code",
   "execution_count": 27,
   "metadata": {
    "slideshow": {
     "slide_type": "fragment"
    }
   },
   "outputs": [
    {
     "name": "stdout",
     "output_type": "stream",
     "text": [
      "Up for 3468.85 sec, idle time 13195.50 sec\n"
     ]
    }
   ],
   "source": [
    "from pathlib import Path\n",
    "\n",
    "# Read & Parse contents of /proc/uptime\n",
    "directory = Path(\"/proc\")\n",
    "uptime_path = directory / \"uptime\"\n",
    "\n",
    "if uptime_path.exists():\n",
    "    uptime = uptime_path.open().read()\n",
    "    report(uptime)\n"
   ]
  },
  {
   "cell_type": "markdown",
   "metadata": {
    "slideshow": {
     "slide_type": "slide"
    }
   },
   "source": [
    "## Thank You!\n",
    "\n",
    "reach me at ol.belavina@gmail.com\n",
    "\n",
    "Slides & Notebook: https://github.com/belavina/lt-py2-vs-py3"
   ]
  }
 ],
 "metadata": {
  "celltoolbar": "Slideshow",
  "kernelspec": {
   "display_name": "Python 3",
   "language": "python",
   "name": "python3"
  },
  "language_info": {
   "codemirror_mode": {
    "name": "ipython",
    "version": 3
   },
   "file_extension": ".py",
   "mimetype": "text/x-python",
   "name": "python",
   "nbconvert_exporter": "python",
   "pygments_lexer": "ipython3",
   "version": "3.7.3"
  }
 },
 "nbformat": 4,
 "nbformat_minor": 2
}
